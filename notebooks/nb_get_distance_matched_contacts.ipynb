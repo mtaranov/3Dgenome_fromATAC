{
 "cells": [
  {
   "cell_type": "code",
   "execution_count": 1,
   "metadata": {
    "collapsed": false
   },
   "outputs": [],
   "source": [
    "%matplotlib inline\n",
    "%load_ext autoreload\n",
    "%autoreload 2\n",
    "\n",
    "import numpy as np\n",
    "import matplotlib.pyplot as plt"
   ]
  },
  {
   "cell_type": "code",
   "execution_count": null,
   "metadata": {
    "collapsed": true
   },
   "outputs": [],
   "source": [
    "DATADIR_chr='/users/mtaranov/3D_fromATAC_by_chr/labels/'\n",
    "DATADIR='/users/mtaranov/3D_fromATAC/data/labels/'\n",
    "data_file = DATADIR_chr+'all_atac_1kb_contacts_w_labels.txt'"
   ]
  },
  {
   "cell_type": "code",
   "execution_count": null,
   "metadata": {
    "collapsed": false
   },
   "outputs": [],
   "source": [
    "data=np.loadtxt(data_file, dtype=str)"
   ]
  },
  {
   "cell_type": "code",
   "execution_count": null,
   "metadata": {
    "collapsed": false
   },
   "outputs": [],
   "source": [
    "X=data[:,:6]\n",
    "y=data[:,6]\n",
    "y=y.reshape((y.shape[0],1))\n",
    "indx=data[:,7:9]"
   ]
  },
  {
   "cell_type": "code",
   "execution_count": null,
   "metadata": {
    "collapsed": true
   },
   "outputs": [],
   "source": [
    "def binarize(matrix):\n",
    "    copy_matrix=copy.copy(matrix)\n",
    "    copy_matrix[copy_matrix > 0] = 1\n",
    "    return copy_matrix"
   ]
  },
  {
   "cell_type": "code",
   "execution_count": null,
   "metadata": {
    "collapsed": true
   },
   "outputs": [],
   "source": [
    "import copy\n",
    "def get_pairs_distance_matched(X, y, indx, min_dist, max_dist, dist_step, imbalance_ratio):\n",
    "\n",
    "    def subsample_indx(indecies, size, imbalance_ratio):\n",
    "        indecies_shuffled=copy.copy(indecies)\n",
    "        np.random.shuffle(indecies_shuffled)\n",
    "        num_subsampled = size*imbalance_ratio\n",
    "        if num_subsampled > len(indecies[0]):\n",
    "            print '    Error: Not enough to subsample'\n",
    "            exit\n",
    "        #print indecies_shuffled[0].shape\n",
    "        #print indecies_shuffled[0][:num_subsampled].shape\n",
    "        else:\n",
    "            return indecies_shuffled[0][:num_subsampled]\n",
    "\n",
    "    neg_indxs = np.where(y.astype(float)==0)[0]\n",
    "    pos_indxs = np.where(y.astype(float)>=10)[0]\n",
    "    X_pos=X[pos_indxs]\n",
    "    X_neg=X[neg_indxs]\n",
    "    y_pos=y[pos_indxs]\n",
    "    y_neg=y[neg_indxs]\n",
    "    indx_pos=indx[pos_indxs]\n",
    "    indx_neg=indx[neg_indxs]\n",
    "\n",
    "    print \"total pos=\", X_pos.shape\n",
    "    print \"total neg=\", X_neg.shape\n",
    "    thres1=min_dist+dist_step\n",
    "    thres2=min_dist\n",
    "\n",
    "    X_new=np.empty(([0,X.shape[1]]))\n",
    "    y_new=np.empty(([0,y.shape[1]]))\n",
    "    indx_new=np.empty(([0,indx.shape[1]]))\n",
    "\n",
    "    while thres1 <= max_dist:\n",
    "        print 'distance window: ', '[', thres2, ',', thres1, ']'\n",
    "        neg_indx_at_dist=np.where((abs(X_neg[:,1].astype(int) - X_neg[:,4].astype(int)) <= thres1) & (abs(X_neg[:,1].astype(int) - X_neg[:,4].astype(int)) >= thres2))\n",
    "        pos_indx_at_dist=np.where((abs(X_pos[:,1].astype(int) - X_pos[:,4].astype(int)) <= thres1) & (abs(X_pos[:,1].astype(int) - X_pos[:,4].astype(int)) >= thres2))\n",
    "        if len(pos_indx_at_dist[0])> len(neg_indx_at_dist[0]):\n",
    "            #print 'more pos than neg'\n",
    "            print 'number of pos at distance=:',  len(pos_indx_at_dist[0])\n",
    "            print 'number of neg at distance=:',  len(neg_indx_at_dist[0])\n",
    "            indx_subsampled=subsample_indx(pos_indx_at_dist, len(neg_indx_at_dist[0]), imbalance_ratio)\n",
    "            new_pos_indx_at_dist=indx_subsampled\n",
    "            new_neg_indx_at_dist=neg_indx_at_dist[0]\n",
    "\n",
    "        else:\n",
    "            #print 'more neg than pos'\n",
    "            print 'number of pos at distance=',  len(pos_indx_at_dist[0])\n",
    "            print 'number of neg at distance=',  len(neg_indx_at_dist[0])\n",
    "            indx_subsampled=subsample_indx(neg_indx_at_dist, len(pos_indx_at_dist[0]), imbalance_ratio)\n",
    "            new_pos_indx_at_dist=pos_indx_at_dist[0]\n",
    "            new_neg_indx_at_dist=indx_subsampled\n",
    "\n",
    "        y_pos_at_dist=y_pos[new_pos_indx_at_dist]\n",
    "        y_neg_at_dist=y_neg[new_neg_indx_at_dist]\n",
    "        X_pos_at_dist=X_pos[new_pos_indx_at_dist]\n",
    "        X_neg_at_dist=X_neg[new_neg_indx_at_dist]\n",
    "        indx_pos_at_dist=indx_pos[new_pos_indx_at_dist]\n",
    "        indx_neg_at_dist=indx_neg[new_neg_indx_at_dist]\n",
    "\n",
    "        y_at_dist=np.concatenate((y_pos_at_dist, y_neg_at_dist))\n",
    "        X_at_dist=np.concatenate((X_pos_at_dist, X_neg_at_dist))\n",
    "        indx_at_dist=np.concatenate((indx_pos_at_dist, indx_neg_at_dist))\n",
    "\n",
    "        print 'labels at dist: ', y_at_dist.shape\n",
    "        print 'data at dist: ', X_at_dist.shape\n",
    "        print 'indx at dist: ', indx_at_dist.shape\n",
    "\n",
    "        indx_new=np.concatenate((indx_new, indx_at_dist))\n",
    "        X_new=np.concatenate((X_new, X_at_dist))\n",
    "        y_new=np.concatenate((y_new, y_at_dist))\n",
    "\n",
    "\n",
    "        #print X_new.shape, X_at_dist.shape\n",
    "        #print y_new.shape, y_at_dist.shape\n",
    "        #print indx_new.shape, indx_at_dist.shape\n",
    "\n",
    "        #print \"# of neg:\", np.where(y_at_dist==0)[0].shape\n",
    "        #print \"# of pos:\", np.where(y_at_dist==1)[0].shape\n",
    "        #thres2=thres1+min_dist\n",
    "        thres2=thres1\n",
    "        thres1=thres1+dist_step\n",
    "\n",
    "    return X_new, y_new, indx_new"
   ]
  },
  {
   "cell_type": "code",
   "execution_count": null,
   "metadata": {
    "collapsed": false
   },
   "outputs": [],
   "source": [
    "X_new, y_new, indx_new = get_pairs_distance_matched(X, y, indx, 10000, 2000000, 10000, 1)"
   ]
  },
  {
   "cell_type": "code",
   "execution_count": null,
   "metadata": {
    "collapsed": false
   },
   "outputs": [],
   "source": [
    "X_new.shape, y_new.shape, indx_new.shape"
   ]
  },
  {
   "cell_type": "code",
   "execution_count": null,
   "metadata": {
    "collapsed": false
   },
   "outputs": [],
   "source": [
    "plt.hist(abs(X_new[np.where(y_new.astype(float)==0)[0]][:,1].astype(int)-X_new[np.where(y_new.astype(float)==0)[0]][:,4].astype(int)))"
   ]
  },
  {
   "cell_type": "code",
   "execution_count": null,
   "metadata": {
    "collapsed": false
   },
   "outputs": [],
   "source": [
    "plt.hist(abs(X_new[np.where(y_new.astype(float)!=0)[0]][:,1].astype(int)-X_new[np.where(y_new.astype(float)!=0)[0]][:,4].astype(int)))"
   ]
  },
  {
   "cell_type": "code",
   "execution_count": null,
   "metadata": {
    "collapsed": false
   },
   "outputs": [],
   "source": [
    "np.savetxt(DATADIR+'site1.bed', X_new[:,:3], delimiter=\"\\t\", fmt=\"%s\") \n",
    "np.savetxt(DATADIR+'site2.bed', X_new[:,3:], delimiter=\"\\t\", fmt=\"%s\") \n",
    "#np.savetxt(DATADIR+'labels.txt', y_new, delimiter=\"\\t\", fmt=\"%s\") \n",
    "np.savetxt(DATADIR+'indx.bed', indx_new, delimiter=\"\\t\", fmt=\"%s\") "
   ]
  },
  {
   "cell_type": "code",
   "execution_count": null,
   "metadata": {
    "collapsed": false
   },
   "outputs": [],
   "source": [
    "np.save(DATADIR+'labels.npy', binarize(y_new.astype(float)).astype(float))"
   ]
  },
  {
   "cell_type": "code",
   "execution_count": null,
   "metadata": {
    "collapsed": true
   },
   "outputs": [],
   "source": []
  }
 ],
 "metadata": {
  "kernelspec": {
   "display_name": "Python 2",
   "language": "python",
   "name": "python2"
  },
  "language_info": {
   "codemirror_mode": {
    "name": "ipython",
    "version": 2
   },
   "file_extension": ".py",
   "mimetype": "text/x-python",
   "name": "python",
   "nbconvert_exporter": "python",
   "pygments_lexer": "ipython2",
   "version": "2.7.11"
  }
 },
 "nbformat": 4,
 "nbformat_minor": 0
}
