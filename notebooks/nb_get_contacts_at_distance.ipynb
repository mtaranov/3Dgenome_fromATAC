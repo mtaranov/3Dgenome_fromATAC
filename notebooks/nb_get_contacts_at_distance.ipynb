{
 "cells": [
  {
   "cell_type": "code",
   "execution_count": 5,
   "metadata": {
    "collapsed": false
   },
   "outputs": [
    {
     "name": "stdout",
     "output_type": "stream",
     "text": [
      "The autoreload extension is already loaded. To reload it, use:\n",
      "  %reload_ext autoreload\n"
     ]
    }
   ],
   "source": [
    "%matplotlib inline\n",
    "%load_ext autoreload\n",
    "%autoreload 2\n",
    "\n",
    "import numpy as np\n",
    "import matplotlib.pyplot as plt"
   ]
  },
  {
   "cell_type": "code",
   "execution_count": 6,
   "metadata": {
    "collapsed": true
   },
   "outputs": [],
   "source": [
    "DATADIR='/users/mtaranov/3D_fromATAC/data/'\n",
    "atac_1kb_contacts_w_labels_D0_file = DATADIR+'atac_1kb_contacts_w_labels_D0.bed'\n",
    "atac_1kb_contacts_w_labels_btw_10kb_2Mb_D0_file = DATADIR+'atac_1kb_contacts_w_labels_btw_10kb_2Mb_D0.bed'\n",
    "\n",
    "atac_w_labels_file=DATADIR+'atac_1kb_contacts_w_labels_D0.bed'\n",
    "outFile = DATADIR+'atac_1kb_contacts_w_labels_btw_10kb_2Mb_D0.bed'"
   ]
  },
  {
   "cell_type": "code",
   "execution_count": 20,
   "metadata": {
    "collapsed": false
   },
   "outputs": [],
   "source": [
    "import csv\n",
    "def get_contacts_at_distance(atac_w_labels_file, thres_min, thres_max, outFile):\n",
    "    atac_dict={}\n",
    "    for line in open(atac_w_labels_file,'r'):\n",
    "        words=line.rstrip().split()\n",
    "        chr=words[0]\n",
    "        start1=words[1]\n",
    "        end1=words[2]\n",
    "        start2=words[4]\n",
    "        end2=words[5]\n",
    "        label=words[6]\n",
    "        HindIII1=words[7]\n",
    "        HindIII2=words[8]\n",
    "        if (abs(int(start2)-int(start1)) > thres_min and abs(int(start2)-int(start1)) < thres_max):\n",
    "            if chr not in atac_dict:\n",
    "                atac_dict[chr]=[(start1, end1, start2, end2, label, HindIII1, HindIII2)]\n",
    "            else:\n",
    "                atac_dict[chr].append((start1, end1, start2, end2, label, HindIII1, HindIII2))\n",
    "\n",
    "    with open(outFile, 'w') as outcsv:\n",
    "    #configure writer to write standart csv file\n",
    "        writer = csv.writer(outcsv, delimiter='\\t', quotechar='|', quoting=csv.QUOTE_MINIMAL, lineterminator='\\n')\n",
    "        for chr in atac_dict:\n",
    "                for item in atac_dict[chr]:\n",
    "                    writer.writerow([chr, item[0], item[1], chr, item[2], item[3], item[4], item[5], item[6]])\n"
   ]
  },
  {
   "cell_type": "code",
   "execution_count": 21,
   "metadata": {
    "collapsed": false
   },
   "outputs": [],
   "source": [
    "thres_min, thres_max =10000, 2000000\n",
    "get_contacts_at_distance(atac_1kb_contacts_w_labels_D0_file, thres_min, thres_max, atac_1kb_contacts_w_labels_btw_10kb_2Mb_D0_file)"
   ]
  },
  {
   "cell_type": "code",
   "execution_count": null,
   "metadata": {
    "collapsed": true
   },
   "outputs": [],
   "source": []
  }
 ],
 "metadata": {
  "kernelspec": {
   "display_name": "Python [default]",
   "language": "python",
   "name": "python2"
  },
  "language_info": {
   "codemirror_mode": {
    "name": "ipython",
    "version": 2
   },
   "file_extension": ".py",
   "mimetype": "text/x-python",
   "name": "python",
   "nbconvert_exporter": "python",
   "pygments_lexer": "ipython2",
   "version": "2.7.12"
  }
 },
 "nbformat": 4,
 "nbformat_minor": 0
}
