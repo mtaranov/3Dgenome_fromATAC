{
 "cells": [
  {
   "cell_type": "code",
   "execution_count": 43,
   "metadata": {
    "collapsed": false
   },
   "outputs": [
    {
     "name": "stdout",
     "output_type": "stream",
     "text": [
      "The autoreload extension is already loaded. To reload it, use:\n",
      "  %reload_ext autoreload\n"
     ]
    }
   ],
   "source": [
    "%matplotlib inline\n",
    "%load_ext autoreload\n",
    "%autoreload 2\n",
    "\n",
    "import numpy as np\n",
    "import matplotlib.pyplot as plt\n",
    "import networkx as nx\n",
    "import gzip\n",
    "from bed_manipulate import bed_intersection, bed_w_NoIntersection, bed_closest"
   ]
  },
  {
   "cell_type": "code",
   "execution_count": 44,
   "metadata": {
    "collapsed": true
   },
   "outputs": [],
   "source": [
    "DATADIR='/users/mtaranov/3D_fromATAC/data/'\n",
    "PromoterCaptureFile=DATADIR+'PromoterCapture_Digest_Human_HindIII_baits_ID.bed'\n",
    "ATACPeakFile=DATADIR+'SORTED_primary_keratinocyte-d00.GGR.Stanford_Greenleaf.ATAC-seq.b1.trim.PE2SE.nodup.tn5_pooled.pf.pval0.1.500000.naive_overlap.narrowPeak.gz'\n",
    "ATACPeakIDRFile=DATADIR+'primary_keratinocyte-d00.GGR.Stanford_Greenleaf.ATAC-seq_rep1-rep2.IDR0.1.filt.narrowPeak.gz'\n",
    "OutputFile=DATADIR+'out.bed'\n",
    "InteractionsFileCaptureC='/mnt/lab_data/kundaje/mtaranov/3D/CaptureC_SC_bait-bait.bed.gz'\n",
    "InteractionsFile_D0='/mnt/lab_data/kundaje/mtaranov/ChicagoCalls/superConfident_bait_bait_fromAdam/humKer_Sub_D2D8_merge.bed'\n",
    "#InteractionsFile_D0='/mnt/lab_data/kundaje/mtaranov/ChicagoCalls/superConfident_bait_bait_fromAdam/test.bed'\n",
    "site1=DATADIR+'site1'\n",
    "site2=DATADIR+'site2'\n",
    "outFile=DATADIR+'CaptureC_D0_bait-bait.bed'"
   ]
  },
  {
   "cell_type": "code",
   "execution_count": 47,
   "metadata": {
    "collapsed": true
   },
   "outputs": [],
   "source": [
    "get_bait_bait_contacts(InteractionsFile_D0, PromoterCaptureFile, )"
   ]
  },
  {
   "cell_type": "code",
   "execution_count": 46,
   "metadata": {
    "collapsed": false
   },
   "outputs": [],
   "source": [
    "from pybedtools import BedTool\n",
    "import csv\n",
    "\n",
    "#pulls bait-bait contacts from all-all interaction\n",
    "def get_bait_bait_contacts(InteractionsFile_D0, PromoterCaptureFile):\n",
    "    data = BedTool(InteractionsFile_D0)\n",
    "    BedTool([i[0], i[1], i[2], i[6]] for i in data).saveas(site1)\n",
    "    BedTool([i[3], i[4], i[5], i[6]] for i in data).saveas(site2)\n",
    "    bed1_site1=BedTool(site1)\n",
    "    bed1_site2=BedTool(site2)\n",
    "    bed2 = BedTool(PromoterCaptureFile)\n",
    "\n",
    "    with open(outFile, 'w') as outcsv:\n",
    "        #configure writer to write standart csv file\n",
    "            writer = csv.writer(outcsv, delimiter='\\t', quotechar='|', quoting=csv.QUOTE_MINIMAL, lineterminator='\\n')\n",
    "            for interval in zip(bed1_site1.intersect(bed2, wao=True), bed1_site2.intersect(bed2, wao=True)):\n",
    "                if interval[0][0] == interval[1][0]: # intra-chr contacts only \n",
    "                    if (int(interval[0][9]) != 0 and int(interval[1][9]) != 0):\n",
    "                        writer.writerow([interval[0][0], interval[0][1], interval[0][2], interval[1][0], interval[1][1], interval[1][2], interval[1][3], interval[0][7], interval[1][7]])"
   ]
  },
  {
   "cell_type": "code",
   "execution_count": null,
   "metadata": {
    "collapsed": true
   },
   "outputs": [],
   "source": []
  }
 ],
 "metadata": {
  "kernelspec": {
   "display_name": "Python 2",
   "language": "python",
   "name": "python2"
  },
  "language_info": {
   "codemirror_mode": {
    "name": "ipython",
    "version": 2
   },
   "file_extension": ".py",
   "mimetype": "text/x-python",
   "name": "python",
   "nbconvert_exporter": "python",
   "pygments_lexer": "ipython2",
   "version": "2.7.11"
  }
 },
 "nbformat": 4,
 "nbformat_minor": 0
}
